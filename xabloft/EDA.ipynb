{
 "cells": [
  {
   "cell_type": "code",
   "execution_count": 13,
   "metadata": {},
   "outputs": [],
   "source": [
    "import pandas as pd\n",
    "import seaborn as sns\n",
    "import requests\n",
    "\n",
    "%matplotlib inline\n",
    "sns.set(style=\"ticks\")"
   ]
  },
  {
   "cell_type": "code",
   "execution_count": 14,
   "metadata": {},
   "outputs": [],
   "source": [
    "df = pd.read_csv('./base_123i.csv')"
   ]
  },
  {
   "cell_type": "code",
   "execution_count": 15,
   "metadata": {},
   "outputs": [
    {
     "data": {
      "text/html": [
       "<div>\n",
       "<style scoped>\n",
       "    .dataframe tbody tr th:only-of-type {\n",
       "        vertical-align: middle;\n",
       "    }\n",
       "\n",
       "    .dataframe tbody tr th {\n",
       "        vertical-align: top;\n",
       "    }\n",
       "\n",
       "    .dataframe thead th {\n",
       "        text-align: right;\n",
       "    }\n",
       "</style>\n",
       "<table border=\"1\" class=\"dataframe\">\n",
       "  <thead>\n",
       "    <tr style=\"text-align: right;\">\n",
       "      <th></th>\n",
       "      <th>city</th>\n",
       "      <th>state</th>\n",
       "      <th>address</th>\n",
       "      <th>tower_name</th>\n",
       "      <th>building_type</th>\n",
       "      <th>rooms</th>\n",
       "      <th>garages</th>\n",
       "      <th>useful_area</th>\n",
       "      <th>latitude</th>\n",
       "      <th>longitude</th>\n",
       "      <th>point_estimate</th>\n",
       "      <th>minimum_estimate</th>\n",
       "      <th>maximum_estimate</th>\n",
       "    </tr>\n",
       "  </thead>\n",
       "  <tbody>\n",
       "    <tr>\n",
       "      <th>0</th>\n",
       "      <td>São Paulo</td>\n",
       "      <td>sp</td>\n",
       "      <td>Alameda Itu, 254</td>\n",
       "      <td>Torre única</td>\n",
       "      <td>Apartamento</td>\n",
       "      <td>3</td>\n",
       "      <td>1</td>\n",
       "      <td>177</td>\n",
       "      <td>-23.56619840</td>\n",
       "      <td>-46.65689950</td>\n",
       "      <td>2111490</td>\n",
       "      <td>1794760</td>\n",
       "      <td>2428210</td>\n",
       "    </tr>\n",
       "    <tr>\n",
       "      <th>1</th>\n",
       "      <td>São Paulo</td>\n",
       "      <td>sp</td>\n",
       "      <td>Alameda Santos, 1398</td>\n",
       "      <td>Torre única</td>\n",
       "      <td>Apartamento</td>\n",
       "      <td>2</td>\n",
       "      <td>1</td>\n",
       "      <td>65</td>\n",
       "      <td>-23.56387020</td>\n",
       "      <td>-46.65560060</td>\n",
       "      <td>608870</td>\n",
       "      <td>517539</td>\n",
       "      <td>700200</td>\n",
       "    </tr>\n",
       "    <tr>\n",
       "      <th>2</th>\n",
       "      <td>São Paulo</td>\n",
       "      <td>sp</td>\n",
       "      <td>Avenida Paulista, 1195</td>\n",
       "      <td>Torre única</td>\n",
       "      <td>Apartamento</td>\n",
       "      <td>3</td>\n",
       "      <td>1</td>\n",
       "      <td>170</td>\n",
       "      <td>-23.56406910</td>\n",
       "      <td>-46.65356350</td>\n",
       "      <td>2102470</td>\n",
       "      <td>1787100</td>\n",
       "      <td>2417840</td>\n",
       "    </tr>\n",
       "    <tr>\n",
       "      <th>3</th>\n",
       "      <td>São Paulo</td>\n",
       "      <td>sp</td>\n",
       "      <td>Avenida Paulista, 1195</td>\n",
       "      <td>Torre única</td>\n",
       "      <td>Apartamento</td>\n",
       "      <td>4</td>\n",
       "      <td>3</td>\n",
       "      <td>223</td>\n",
       "      <td>-23.56406910</td>\n",
       "      <td>-46.65356350</td>\n",
       "      <td>2757950</td>\n",
       "      <td>2344260</td>\n",
       "      <td>3171640</td>\n",
       "    </tr>\n",
       "    <tr>\n",
       "      <th>4</th>\n",
       "      <td>São Paulo</td>\n",
       "      <td>sp</td>\n",
       "      <td>Alameda Santos, 1126</td>\n",
       "      <td>Torre única</td>\n",
       "      <td>Apartamento</td>\n",
       "      <td>3</td>\n",
       "      <td>1</td>\n",
       "      <td>100</td>\n",
       "      <td>-23.56533980</td>\n",
       "      <td>-46.65376750</td>\n",
       "      <td>1125720</td>\n",
       "      <td>956862</td>\n",
       "      <td>1294580</td>\n",
       "    </tr>\n",
       "  </tbody>\n",
       "</table>\n",
       "</div>"
      ],
      "text/plain": [
       "        city state                 address   tower_name building_type  rooms  \\\n",
       "0  São Paulo    sp        Alameda Itu, 254  Torre única   Apartamento      3   \n",
       "1  São Paulo    sp    Alameda Santos, 1398  Torre única   Apartamento      2   \n",
       "2  São Paulo    sp  Avenida Paulista, 1195  Torre única   Apartamento      3   \n",
       "3  São Paulo    sp  Avenida Paulista, 1195  Torre única   Apartamento      4   \n",
       "4  São Paulo    sp    Alameda Santos, 1126  Torre única   Apartamento      3   \n",
       "\n",
       "   garages  useful_area      latitude     longitude  point_estimate  \\\n",
       "0        1          177  -23.56619840  -46.65689950         2111490   \n",
       "1        1           65  -23.56387020  -46.65560060          608870   \n",
       "2        1          170  -23.56406910  -46.65356350         2102470   \n",
       "3        3          223  -23.56406910  -46.65356350         2757950   \n",
       "4        1          100  -23.56533980  -46.65376750         1125720   \n",
       "\n",
       "   minimum_estimate  maximum_estimate  \n",
       "0           1794760           2428210  \n",
       "1            517539            700200  \n",
       "2           1787100           2417840  \n",
       "3           2344260           3171640  \n",
       "4            956862           1294580  "
      ]
     },
     "execution_count": 15,
     "metadata": {},
     "output_type": "execute_result"
    }
   ],
   "source": [
    "df.head()"
   ]
  },
  {
   "cell_type": "code",
   "execution_count": 16,
   "metadata": {},
   "outputs": [
    {
     "data": {
      "text/plain": [
       "(103953, 13)"
      ]
     },
     "execution_count": 16,
     "metadata": {},
     "output_type": "execute_result"
    }
   ],
   "source": [
    "df.shape"
   ]
  },
  {
   "cell_type": "code",
   "execution_count": 35,
   "metadata": {},
   "outputs": [
    {
     "data": {
      "text/plain": [
       "<Response [200]>"
      ]
     },
     "execution_count": 35,
     "metadata": {},
     "output_type": "execute_result"
    }
   ],
   "source": [
    "requests.post('http://localhost:8000/api/onboarding/', json={\n",
    "    'location': 'Alameda Santos, 2400',\n",
    "    'distance': '10'\n",
    "})"
   ]
  },
  {
   "cell_type": "code",
   "execution_count": 37,
   "metadata": {},
   "outputs": [],
   "source": [
    "import urllib"
   ]
  },
  {
   "cell_type": "code",
   "execution_count": 36,
   "metadata": {},
   "outputs": [],
   "source": [
    "LOCATIONIQ_URL = 'https://locationiq.org/v1/search.php?'\n",
    "locationiq_request = {\n",
    "    'key': 'dda4e5240ffa57',\n",
    "    'format': 'json',\n",
    "}"
   ]
  },
  {
   "cell_type": "code",
   "execution_count": 45,
   "metadata": {},
   "outputs": [],
   "source": [
    "locationiq_request['q'] = 'Alameda Santos, 2400'"
   ]
  },
  {
   "cell_type": "code",
   "execution_count": 52,
   "metadata": {},
   "outputs": [],
   "source": [
    "r = requests.get(LOCATIONIQ_URL + urllib.parse.urlencode(locationiq_request)).json()"
   ]
  },
  {
   "cell_type": "code",
   "execution_count": 56,
   "metadata": {},
   "outputs": [
    {
     "data": {
      "text/plain": [
       "{'place_id': '59586853',\n",
       " 'licence': 'https://locationiq.com/attribution',\n",
       " 'osm_type': 'node',\n",
       " 'osm_id': '4881860694',\n",
       " 'boundingbox': ['-23.5575112', '-23.5574112', '-46.6628253', '-46.6627253'],\n",
       " 'lat': '-23.5574612',\n",
       " 'lon': '-46.6627753',\n",
       " 'display_name': 'Damasio, 2400, Alameda Santos, Cerqueira César, Jardim Paulista, São Paulo, Região Imediata de São Paulo, RMSP, Região Intermediária de São Paulo, São Paulo, Southeast Region, 01418-200, Brazil',\n",
       " 'class': 'amenity',\n",
       " 'type': 'university',\n",
       " 'importance': 0.311,\n",
       " 'icon': 'https://locationiq.org/static/images/mapicons/education_university.p.20.png'}"
      ]
     },
     "execution_count": 56,
     "metadata": {},
     "output_type": "execute_result"
    }
   ],
   "source": [
    "r[0]"
   ]
  },
  {
   "cell_type": "code",
   "execution_count": 51,
   "metadata": {},
   "outputs": [
    {
     "data": {
      "text/plain": [
       "1"
      ]
     },
     "execution_count": 51,
     "metadata": {},
     "output_type": "execute_result"
    }
   ],
   "source": [
    "len(r.json())"
   ]
  },
  {
   "cell_type": "code",
   "execution_count": null,
   "metadata": {},
   "outputs": [],
   "source": []
  }
 ],
 "metadata": {
  "kernelspec": {
   "display_name": "Django Shell-Plus",
   "language": "python",
   "name": "django_extensions"
  },
  "language_info": {
   "codemirror_mode": {
    "name": "ipython",
    "version": 3
   },
   "file_extension": ".py",
   "mimetype": "text/x-python",
   "name": "python",
   "nbconvert_exporter": "python",
   "pygments_lexer": "ipython3",
   "version": "3.7.5"
  }
 },
 "nbformat": 4,
 "nbformat_minor": 2
}
